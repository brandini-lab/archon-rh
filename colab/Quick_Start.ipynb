{
  "cells": [
    {
      "cell_type": "markdown",
      "metadata": {},
      "source": [
        "# ARCHON-RH: Quick Start (15 Minutes)\n",
        "Fast setup for testing the pipeline.\n"
      ]
    },
    {
      "cell_type": "code",
      "execution_count": null,
      "metadata": {},
      "outputs": [],
      "source": [
        "# GPU Check\n",
        "!nvidia-smi\n",
        "import torch\n",
        "print(f\"CUDA: {torch.cuda.is_available()}\")\n"
      ]
    },
    {
      "cell_type": "code",
      "execution_count": null,
      "metadata": {},
      "outputs": [],
      "source": [
        "# Clone & Install\n",
        "!rm -rf /content/archon-rh\n",
        "!git clone https://github.com/brandini-lab/archon-rh /content/archon-rh\n",
        "%cd /content/archon-rh\n",
        "!pip install -q -e .[dev] accelerate\n"
      ]
    },
    {
      "cell_type": "code",
      "execution_count": null,
      "metadata": {},
      "outputs": [],
      "source": [
        "# Build Dataset\n",
        "from prover.datasets.build_mathlib_dataset import build\n",
        "build(limit=32)\n",
        "print(\"✓ Dataset ready\")\n"
      ]
    },
    {
      "cell_type": "code",
      "execution_count": null,
      "metadata": {},
      "outputs": [],
      "source": [
        "# Quick Test\n",
        "!pytest -k 'funsearch_objective' --maxfail=1\n"
      ]
    },
    {
      "cell_type": "code",
      "execution_count": null,
      "metadata": {},
      "outputs": [],
      "source": [
        "# Train Tiny Model\n",
        "!python prover/train/sft_hf.py --config orchestration/configs/sft_tiny.yaml\n"
      ]
    },
    {
      "cell_type": "code",
      "execution_count": null,
      "metadata": {},
      "outputs": [],
      "source": [
        "# Check Results\n",
        "!ls -lh artifacts/checkpoints/\n",
        "print(\"\\n✓ Pipeline complete!\")\n"
      ]
    }
  ],
  "metadata": {
    "language_info": {
      "name": "python"
    }
  },
  "nbformat": 4,
  "nbformat_minor": 2
}
