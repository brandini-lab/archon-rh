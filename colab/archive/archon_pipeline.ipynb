{
  "cells": [
    {
      "cell_type": "markdown",
      "metadata": {},
      "source": [
        "# ARCHON-RH Pipeline (Colab, GPU Ready)\n",
        "End-to-end demo: SFT \u2192 PPO \u2192 FunSearch \u2192 Numerics \u2192 Safety signatures."
      ]
    },
    {
      "cell_type": "code",
      "execution_count": null,
      "metadata": {
        "id": "prep"
      },
      "outputs": [],
      "source": [
        "%cd /content/archon-rh\n",
        "!ls"
      ]
    },
    {
      "cell_type": "code",
      "execution_count": null,
      "metadata": {
        "id": "sft"
      },
      "outputs": [],
      "source": [
        "!python prover/train/sft_hf.py --config orchestration/configs/sft_hf_colab.yaml"
      ]
    },
    {
      "cell_type": "code",
      "execution_count": null,
      "metadata": {
        "id": "ppo"
      },
      "outputs": [],
      "source": [
        "!python - <<'PY'\nfrom prover.rl.ppo_loop import train\ntrain('orchestration/configs/rl_ppo_colab.yaml')\nprint('ppo complete')\nPY"
      ]
    },
    {
      "cell_type": "code",
      "execution_count": null,
      "metadata": {
        "id": "funsearch"
      },
      "outputs": [],
      "source": [
        "!python conjecture/funsearch/funsearch_loop.py --config orchestration/configs/funsearch_loop.yaml"
      ]
    },
    {
      "cell_type": "code",
      "execution_count": null,
      "metadata": {
        "id": "numerics"
      },
      "outputs": [],
      "source": [
        "!python numerics/zeros/run_zero_checks.py --config orchestration/configs/numeric_verify.yaml"
      ]
    },
    {
      "cell_type": "code",
      "execution_count": null,
      "metadata": {
        "id": "safety"
      },
      "outputs": [],
      "source": [
        "!python - <<'PY'\nfrom safety.reward_verifier import sign_event, verify_event\nevent = sign_event('NUMERIC_CERT', {'path': 'artifacts/numerics/certificates.json'})\nassert verify_event(event)\nprint('reward signature ok')\nPY"
      ]
    },
    {
      "cell_type": "code",
      "execution_count": null,
      "metadata": {
        "id": "summary"
      },
      "outputs": [],
      "source": [
        "from pathlib import Path\nfrom pprint import pprint\nfiles = list(Path('artifacts').rglob('*'))[:20]\nfor path in files:\n    print(path)"
      ]
    }
  ],
  "metadata": {
    "kernelspec": {
      "display_name": "Python 3",
      "language": "python",
      "name": "python3"
    }
  },
  "nbformat": 4,
  "nbformat_minor": 5
}