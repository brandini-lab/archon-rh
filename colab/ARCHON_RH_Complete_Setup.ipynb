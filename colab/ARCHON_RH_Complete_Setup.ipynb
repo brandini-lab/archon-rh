{
  "cells": [
    {
      "cell_type": "markdown",
      "metadata": {
        "id": "yIcfQN5d95ZU"
      },
      "source": [
        "# ARCHON-RH: Complete Colab Setup for Riemann Hypothesis Research\n",
        "This notebook sets up the complete reasoning lab for formal mathematics and theorem proving.\n",
        "\n",
        "**Hardware Required:** GPU Runtime (T4/V100/A100)\n",
        "\n",
        "**Runtime Setup:**\n",
        "- Runtime → Change runtime type → Hardware accelerator: **GPU**\n",
        "- Runtime type: **High-RAM** (if available)\n"
      ]
    },
    {
      "cell_type": "markdown",
      "metadata": {
        "id": "dPdL8_XE95ZV"
      },
      "source": [
        "## Step 1: Verify GPU & System\n"
      ]
    },
    {
      "cell_type": "code",
      "execution_count": 1,
      "metadata": {
        "colab": {
          "base_uri": "https://localhost:8080/"
        },
        "id": "7qerfS2h95ZV",
        "outputId": "b998fed8-12d2-428c-8c96-334f641c67f8"
      },
      "outputs": [
        {
          "output_type": "stream",
          "name": "stdout",
          "text": [
            "/bin/bash: line 1: nvidia-smi: command not found\n",
            "Python 3.12.12\n",
            "\n",
            "============================================================\n",
            "PyTorch version: 2.8.0+cu126\n",
            "CUDA available: False\n",
            "============================================================\n"
          ]
        }
      ],
      "source": [
        "# Check GPU availability and specs\n",
        "!nvidia-smi\n",
        "!python -V\n",
        "\n",
        "import torch\n",
        "print(f\"\\n{'='*60}\")\n",
        "print(f\"PyTorch version: {torch.__version__}\")\n",
        "print(f\"CUDA available: {torch.cuda.is_available()}\")\n",
        "if torch.cuda.is_available():\n",
        "    print(f\"GPU: {torch.cuda.get_device_name(0)}\")\n",
        "    print(f\"GPU Memory: {torch.cuda.get_device_properties(0).total_memory / 1e9:.2f} GB\")\n",
        "    print(f\"CUDA Version: {torch.version.cuda}\")\n",
        "print(f\"{'='*60}\")\n"
      ]
    },
    {
      "cell_type": "markdown",
      "metadata": {
        "id": "LPVNLZSK95ZW"
      },
      "source": [
        "## Step 2: Get Code (Choose ONE option below)\n"
      ]
    },
    {
      "cell_type": "code",
      "execution_count": 2,
      "metadata": {
        "colab": {
          "base_uri": "https://localhost:8080/"
        },
        "id": "_DfJhhCK95ZW",
        "outputId": "45d1ac59-3e07-4efe-9440-3ca335f21a61"
      },
      "outputs": [
        {
          "output_type": "stream",
          "name": "stdout",
          "text": [
            "Cloning into '/content/archon-rh'...\n",
            "remote: Enumerating objects: 230, done.\u001b[K\n",
            "remote: Counting objects: 100% (230/230), done.\u001b[K\n",
            "remote: Compressing objects: 100% (176/176), done.\u001b[K\n",
            "remote: Total 230 (delta 36), reused 230 (delta 36), pack-reused 0 (from 0)\u001b[K\n",
            "Receiving objects: 100% (230/230), 82.66 KiB | 9.18 MiB/s, done.\n",
            "Resolving deltas: 100% (36/36), done.\n",
            "/content/archon-rh\n",
            "/content/archon-rh\n",
            "total 120\n",
            "drwxr-xr-x 14 root root  4096 Oct 24 02:06 .\n",
            "drwxr-xr-x  1 root root  4096 Oct 24 02:06 ..\n",
            "drwxr-xr-x 12 root root  4096 Oct 24 02:06 archon-rh\n",
            "drwxr-xr-x  2 root root  4096 Oct 24 02:06 colab\n",
            "drwxr-xr-x  5 root root  4096 Oct 24 02:06 conjecture\n",
            "drwxr-xr-x  2 root root  4096 Oct 24 02:06 docker\n",
            "drwxr-xr-x  2 root root  4096 Oct 24 02:06 docs\n",
            "drwxr-xr-x  5 root root  4096 Oct 24 02:06 formal\n",
            "drwxr-xr-x  8 root root  4096 Oct 24 02:06 .git\n",
            "-rw-r--r--  1 root root   503 Oct 24 02:06 .gitignore\n",
            "-rw-r--r--  1 root root  7677 Oct 24 02:06 GPU_SETUP.md\n",
            "-rw-r--r--  1 root root  6564 Oct 24 02:06 GPU_TRAINING_SUMMARY.md\n",
            "-rw-r--r--  1 root root  2330 Oct 24 02:06 launch_gpu_training.bat\n",
            "-rw-r--r--  1 root root  2362 Oct 24 02:06 launch_gpu_training.sh\n",
            "-rw-r--r--  1 root root  1762 Oct 24 02:06 Makefile\n",
            "drwxr-xr-x  6 root root  4096 Oct 24 02:06 numerics\n",
            "drwxr-xr-x  4 root root  4096 Oct 24 02:06 orchestration\n",
            "drwxr-xr-x  8 root root  4096 Oct 24 02:06 prover\n",
            "-rw-r--r--  1 root root  1914 Oct 24 02:06 pyproject.toml\n",
            "-rw-r--r--  1 root root  3576 Oct 24 02:06 QUICK_START_GPU.md\n",
            "-rw-r--r--  1 root root  3765 Oct 24 02:06 README.md\n",
            "-rw-r--r--  1 root root 11854 Oct 24 02:06 RIEMANN_HYPOTHESIS_CHECKLIST.md\n",
            "drwxr-xr-x  5 root root  4096 Oct 24 02:06 safety\n",
            "drwxr-xr-x  2 root root  4096 Oct 24 02:06 scripts\n",
            "-rw-r--r--  1 root root  5526 Oct 24 02:06 START_HERE_GPU.md\n"
          ]
        }
      ],
      "source": [
        "# OPTION 1: Clone from GitHub (RECOMMENDED)\n",
        "!rm -rf /content/archon-rh\n",
        "!git clone https://github.com/brandini-lab/archon-rh /content/archon-rh\n",
        "%cd /content/archon-rh\n",
        "!pwd\n",
        "!ls -la\n"
      ]
    },
    {
      "cell_type": "code",
      "execution_count": null,
      "metadata": {
        "id": "VIR781x695ZW"
      },
      "outputs": [],
      "source": [
        "# OPTION 2: Upload ZIP file (Alternative if no GitHub)\n",
        "# First, create archon-rh.zip locally, then run this cell\n",
        "from google.colab import files\n",
        "import zipfile\n",
        "\n",
        "print(\"Upload archon-rh.zip containing the archon-rh folder\")\n",
        "uploaded = files.upload()\n",
        "\n",
        "zip_name = list(uploaded.keys())[0]\n",
        "!unzip -q {zip_name} -d /content/\n",
        "%cd /content/archon-rh\n",
        "!pwd\n",
        "!ls -la\n"
      ]
    },
    {
      "cell_type": "code",
      "execution_count": null,
      "metadata": {
        "id": "fMoyuAzI95ZW"
      },
      "outputs": [],
      "source": [
        "# OPTION 3: Mount Google Drive (if code is on Drive)\n",
        "# Upload archon-rh folder to Google Drive first\n",
        "from google.colab import drive\n",
        "drive.mount('/content/drive')\n",
        "\n",
        "# Update path to where you uploaded the folder\n",
        "!cp -r /content/drive/MyDrive/archon-rh /content/archon-rh\n",
        "%cd /content/archon-rh\n",
        "!pwd\n",
        "!ls -la\n"
      ]
    },
    {
      "cell_type": "markdown",
      "metadata": {
        "id": "llU9EIB595ZW"
      },
      "source": [
        "## Step 3: Verify Code is Loaded\n"
      ]
    },
    {
      "cell_type": "code",
      "execution_count": 3,
      "metadata": {
        "colab": {
          "base_uri": "https://localhost:8080/"
        },
        "id": "A_abpC9Y95ZW",
        "outputId": "058ee441-f391-4f2f-cc23-822160378842"
      },
      "outputs": [
        {
          "output_type": "stream",
          "name": "stdout",
          "text": [
            "/content/archon-rh\n",
            "total 120\n",
            "drwxr-xr-x 14 root root  4096 Oct 24 02:06 .\n",
            "drwxr-xr-x  1 root root  4096 Oct 24 02:06 ..\n",
            "drwxr-xr-x 12 root root  4096 Oct 24 02:06 archon-rh\n",
            "drwxr-xr-x  2 root root  4096 Oct 24 02:06 colab\n",
            "drwxr-xr-x  5 root root  4096 Oct 24 02:06 conjecture\n",
            "drwxr-xr-x  2 root root  4096 Oct 24 02:06 docker\n",
            "drwxr-xr-x  2 root root  4096 Oct 24 02:06 docs\n",
            "drwxr-xr-x  5 root root  4096 Oct 24 02:06 formal\n",
            "drwxr-xr-x  8 root root  4096 Oct 24 02:06 .git\n",
            "-rw-r--r--  1 root root   503 Oct 24 02:06 .gitignore\n",
            "-rw-r--r--  1 root root  7677 Oct 24 02:06 GPU_SETUP.md\n",
            "-rw-r--r--  1 root root  6564 Oct 24 02:06 GPU_TRAINING_SUMMARY.md\n",
            "-rw-r--r--  1 root root  2330 Oct 24 02:06 launch_gpu_training.bat\n",
            "-rw-r--r--  1 root root  2362 Oct 24 02:06 launch_gpu_training.sh\n",
            "-rw-r--r--  1 root root  1762 Oct 24 02:06 Makefile\n",
            "drwxr-xr-x  6 root root  4096 Oct 24 02:06 numerics\n",
            "drwxr-xr-x  4 root root  4096 Oct 24 02:06 orchestration\n",
            "drwxr-xr-x  8 root root  4096 Oct 24 02:06 prover\n",
            "-rw-r--r--  1 root root  1914 Oct 24 02:06 pyproject.toml\n",
            "-rw-r--r--  1 root root  3576 Oct 24 02:06 QUICK_START_GPU.md\n",
            "-rw-r--r--  1 root root  3765 Oct 24 02:06 README.md\n",
            "-rw-r--r--  1 root root 11854 Oct 24 02:06 RIEMANN_HYPOTHESIS_CHECKLIST.md\n",
            "drwxr-xr-x  5 root root  4096 Oct 24 02:06 safety\n",
            "drwxr-xr-x  2 root root  4096 Oct 24 02:06 scripts\n",
            "-rw-r--r--  1 root root  5526 Oct 24 02:06 START_HERE_GPU.md\n",
            "\n",
            "✓ Checking key directories:\n",
            "conjecture/  numerics/\torchestration/\tprover/\n"
          ]
        }
      ],
      "source": [
        "# Verify directory structure\n",
        "!pwd\n",
        "!ls -la\n",
        "print(\"\\n✓ Checking key directories:\")\n",
        "!ls -d prover/ conjecture/ numerics/ orchestration/ 2>/dev/null || echo \"⚠️  Missing directories - check your setup!\"\n"
      ]
    },
    {
      "cell_type": "markdown",
      "metadata": {
        "id": "shwrj6PK95ZW"
      },
      "source": [
        "## Step 4: Install Dependencies (4-7 minutes)\n"
      ]
    },
    {
      "cell_type": "code",
      "execution_count": 4,
      "metadata": {
        "colab": {
          "base_uri": "https://localhost:8080/"
        },
        "id": "xvKOWU_c95ZW",
        "outputId": "a3e89e81-57e0-4509-bd1f-9cb6a2dd9138"
      },
      "outputs": [
        {
          "output_type": "stream",
          "name": "stdout",
          "text": [
            "Requirement already satisfied: pip in /usr/local/lib/python3.12/dist-packages (24.1.2)\n",
            "Collecting pip\n",
            "  Downloading pip-25.2-py3-none-any.whl.metadata (4.7 kB)\n",
            "Requirement already satisfied: setuptools in /usr/local/lib/python3.12/dist-packages (75.2.0)\n",
            "Collecting setuptools\n",
            "  Downloading setuptools-80.9.0-py3-none-any.whl.metadata (6.6 kB)\n",
            "Requirement already satisfied: wheel in /usr/local/lib/python3.12/dist-packages (0.45.1)\n",
            "Downloading pip-25.2-py3-none-any.whl (1.8 MB)\n",
            "\u001b[2K   \u001b[90m━━━━━━━━━━━━━━━━━━━━━━━━━━━━━━━━━━━━━━━━\u001b[0m \u001b[32m1.8/1.8 MB\u001b[0m \u001b[31m56.0 MB/s\u001b[0m eta \u001b[36m0:00:00\u001b[0m\n",
            "\u001b[?25hDownloading setuptools-80.9.0-py3-none-any.whl (1.2 MB)\n",
            "\u001b[2K   \u001b[90m━━━━━━━━━━━━━━━━━━━━━━━━━━━━━━━━━━━━━━━━\u001b[0m \u001b[32m1.2/1.2 MB\u001b[0m \u001b[31m48.5 MB/s\u001b[0m eta \u001b[36m0:00:00\u001b[0m\n",
            "\u001b[?25hInstalling collected packages: setuptools, pip\n",
            "  Attempting uninstall: setuptools\n",
            "    Found existing installation: setuptools 75.2.0\n",
            "    Uninstalling setuptools-75.2.0:\n",
            "      Successfully uninstalled setuptools-75.2.0\n",
            "  Attempting uninstall: pip\n",
            "    Found existing installation: pip 24.1.2\n",
            "    Uninstalling pip-24.1.2:\n",
            "      Successfully uninstalled pip-24.1.2\n",
            "\u001b[31mERROR: pip's dependency resolver does not currently take into account all the packages that are installed. This behaviour is the source of the following dependency conflicts.\n",
            "ipython 7.34.0 requires jedi>=0.16, which is not installed.\u001b[0m\u001b[31m\n",
            "\u001b[0mSuccessfully installed pip-25.2 setuptools-80.9.0\n",
            "Obtaining file:///content/archon-rh\n",
            "  Installing build dependencies ... \u001b[?25l\u001b[?25hdone\n",
            "  Checking if build backend supports build_editable ... \u001b[?25l\u001b[?25hdone\n",
            "  Getting requirements to build editable ... \u001b[?25l\u001b[?25hdone\n",
            "  Preparing editable metadata (pyproject.toml) ... \u001b[?25l\u001b[?25hdone\n",
            "Requirement already satisfied: click<9.0,>=8.1.7 in /usr/local/lib/python3.12/dist-packages (from archon-rh==0.1.0) (8.3.0)\n",
            "Collecting numpy<2.0,>=1.26 (from archon-rh==0.1.0)\n",
            "  Downloading numpy-1.26.4-cp312-cp312-manylinux_2_17_x86_64.manylinux2014_x86_64.whl.metadata (61 kB)\n",
            "Requirement already satisfied: pandas<3.0,>=2.1 in /usr/local/lib/python3.12/dist-packages (from archon-rh==0.1.0) (2.2.2)\n",
            "Collecting pyarrow<17.0,>=14.0 (from archon-rh==0.1.0)\n",
            "  Downloading pyarrow-16.1.0-cp312-cp312-manylinux_2_28_x86_64.whl.metadata (3.0 kB)\n",
            "Collecting torch==2.2.2 (from archon-rh==0.1.0)\n",
            "  Downloading torch-2.2.2-cp312-cp312-manylinux1_x86_64.whl.metadata (25 kB)\n",
            "Collecting torchaudio==2.2.2 (from archon-rh==0.1.0)\n",
            "  Downloading torchaudio-2.2.2-cp312-cp312-manylinux1_x86_64.whl.metadata (6.4 kB)\n",
            "Collecting torchvision==0.17.2 (from archon-rh==0.1.0)\n",
            "  Downloading torchvision-0.17.2-cp312-cp312-manylinux1_x86_64.whl.metadata (6.6 kB)\n",
            "Collecting accelerate<0.33,>=0.31 (from archon-rh==0.1.0)\n",
            "  Downloading accelerate-0.32.1-py3-none-any.whl.metadata (18 kB)\n",
            "Collecting transformers<4.46,>=4.40 (from archon-rh==0.1.0)\n",
            "  Downloading transformers-4.45.2-py3-none-any.whl.metadata (44 kB)\n",
            "Collecting sentencepiece<0.2.0,>=0.1.99 (from archon-rh==0.1.0)\n",
            "  Downloading sentencepiece-0.1.99.tar.gz (2.6 MB)\n",
            "\u001b[2K     \u001b[90m━━━━━━━━━━━━━━━━━━━━━━━━━━━━━━━━━━━━━━━━\u001b[0m \u001b[32m2.6/2.6 MB\u001b[0m \u001b[31m61.9 MB/s\u001b[0m  \u001b[33m0:00:00\u001b[0m\n",
            "\u001b[?25h  Preparing metadata (setup.py) ... \u001b[?25l\u001b[?25hdone\n",
            "Collecting bitsandbytes<0.44,>=0.43 (from archon-rh==0.1.0)\n",
            "  Downloading bitsandbytes-0.43.3-py3-none-manylinux_2_24_x86_64.whl.metadata (3.5 kB)\n",
            "INFO: pip is looking at multiple versions of archon-rh to determine which version is compatible with other requirements. This could take a while.\n",
            "\u001b[31mERROR: Ignored the following versions that require a different python version: 1.21.2 Requires-Python >=3.7,<3.11; 1.21.3 Requires-Python >=3.7,<3.11; 1.21.4 Requires-Python >=3.7,<3.11; 1.21.5 Requires-Python >=3.7,<3.11; 1.21.6 Requires-Python >=3.7,<3.11\u001b[0m\u001b[31m\n",
            "\u001b[0m\u001b[31mERROR: Could not find a version that satisfies the requirement ray==2.10.0 (from archon-rh) (from versions: 2.31.0, 2.32.0rc0, 2.32.0, 2.33.0, 2.34.0, 2.35.0, 2.36.0, 2.36.1, 2.37.0, 2.38.0, 2.39.0, 2.40.0, 2.41.0, 2.42.0, 2.42.1, 2.43.0, 2.44.0, 2.44.1, 2.45.0, 2.46.0, 2.47.0, 2.47.1, 2.48.0, 2.49.0, 2.49.1, 2.49.2, 2.50.0, 2.50.1)\u001b[0m\u001b[31m\n",
            "\u001b[0m\u001b[31mERROR: No matching distribution found for ray==2.10.0\u001b[0m\u001b[31m\n",
            "\u001b[0mRequirement already satisfied: accelerate in /usr/local/lib/python3.12/dist-packages (1.11.0)\n",
            "Collecting bitsandbytes\n",
            "  Downloading bitsandbytes-0.48.1-py3-none-manylinux_2_24_x86_64.whl.metadata (10 kB)\n",
            "Requirement already satisfied: numpy>=1.17 in /usr/local/lib/python3.12/dist-packages (from accelerate) (2.0.2)\n",
            "Requirement already satisfied: packaging>=20.0 in /usr/local/lib/python3.12/dist-packages (from accelerate) (25.0)\n",
            "Requirement already satisfied: psutil in /usr/local/lib/python3.12/dist-packages (from accelerate) (5.9.5)\n",
            "Requirement already satisfied: pyyaml in /usr/local/lib/python3.12/dist-packages (from accelerate) (6.0.3)\n",
            "Requirement already satisfied: torch>=2.0.0 in /usr/local/lib/python3.12/dist-packages (from accelerate) (2.8.0+cu126)\n",
            "Requirement already satisfied: huggingface_hub>=0.21.0 in /usr/local/lib/python3.12/dist-packages (from accelerate) (0.35.3)\n",
            "Requirement already satisfied: safetensors>=0.4.3 in /usr/local/lib/python3.12/dist-packages (from accelerate) (0.6.2)\n",
            "Requirement already satisfied: filelock in /usr/local/lib/python3.12/dist-packages (from torch>=2.0.0->accelerate) (3.20.0)\n",
            "Requirement already satisfied: typing-extensions>=4.10.0 in /usr/local/lib/python3.12/dist-packages (from torch>=2.0.0->accelerate) (4.15.0)\n",
            "Requirement already satisfied: setuptools in /usr/local/lib/python3.12/dist-packages (from torch>=2.0.0->accelerate) (80.9.0)\n",
            "Requirement already satisfied: sympy>=1.13.3 in /usr/local/lib/python3.12/dist-packages (from torch>=2.0.0->accelerate) (1.13.3)\n",
            "Requirement already satisfied: networkx in /usr/local/lib/python3.12/dist-packages (from torch>=2.0.0->accelerate) (3.5)\n",
            "Requirement already satisfied: jinja2 in /usr/local/lib/python3.12/dist-packages (from torch>=2.0.0->accelerate) (3.1.6)\n",
            "Requirement already satisfied: fsspec in /usr/local/lib/python3.12/dist-packages (from torch>=2.0.0->accelerate) (2025.3.0)\n",
            "Requirement already satisfied: nvidia-cuda-nvrtc-cu12==12.6.77 in /usr/local/lib/python3.12/dist-packages (from torch>=2.0.0->accelerate) (12.6.77)\n",
            "Requirement already satisfied: nvidia-cuda-runtime-cu12==12.6.77 in /usr/local/lib/python3.12/dist-packages (from torch>=2.0.0->accelerate) (12.6.77)\n",
            "Requirement already satisfied: nvidia-cuda-cupti-cu12==12.6.80 in /usr/local/lib/python3.12/dist-packages (from torch>=2.0.0->accelerate) (12.6.80)\n",
            "Requirement already satisfied: nvidia-cudnn-cu12==9.10.2.21 in /usr/local/lib/python3.12/dist-packages (from torch>=2.0.0->accelerate) (9.10.2.21)\n",
            "Requirement already satisfied: nvidia-cublas-cu12==12.6.4.1 in /usr/local/lib/python3.12/dist-packages (from torch>=2.0.0->accelerate) (12.6.4.1)\n",
            "Requirement already satisfied: nvidia-cufft-cu12==11.3.0.4 in /usr/local/lib/python3.12/dist-packages (from torch>=2.0.0->accelerate) (11.3.0.4)\n",
            "Requirement already satisfied: nvidia-curand-cu12==10.3.7.77 in /usr/local/lib/python3.12/dist-packages (from torch>=2.0.0->accelerate) (10.3.7.77)\n",
            "Requirement already satisfied: nvidia-cusolver-cu12==11.7.1.2 in /usr/local/lib/python3.12/dist-packages (from torch>=2.0.0->accelerate) (11.7.1.2)\n",
            "Requirement already satisfied: nvidia-cusparse-cu12==12.5.4.2 in /usr/local/lib/python3.12/dist-packages (from torch>=2.0.0->accelerate) (12.5.4.2)\n",
            "Requirement already satisfied: nvidia-cusparselt-cu12==0.7.1 in /usr/local/lib/python3.12/dist-packages (from torch>=2.0.0->accelerate) (0.7.1)\n",
            "Requirement already satisfied: nvidia-nccl-cu12==2.27.3 in /usr/local/lib/python3.12/dist-packages (from torch>=2.0.0->accelerate) (2.27.3)\n",
            "Requirement already satisfied: nvidia-nvtx-cu12==12.6.77 in /usr/local/lib/python3.12/dist-packages (from torch>=2.0.0->accelerate) (12.6.77)\n",
            "Requirement already satisfied: nvidia-nvjitlink-cu12==12.6.85 in /usr/local/lib/python3.12/dist-packages (from torch>=2.0.0->accelerate) (12.6.85)\n",
            "Requirement already satisfied: nvidia-cufile-cu12==1.11.1.6 in /usr/local/lib/python3.12/dist-packages (from torch>=2.0.0->accelerate) (1.11.1.6)\n",
            "Requirement already satisfied: triton==3.4.0 in /usr/local/lib/python3.12/dist-packages (from torch>=2.0.0->accelerate) (3.4.0)\n",
            "Requirement already satisfied: requests in /usr/local/lib/python3.12/dist-packages (from huggingface_hub>=0.21.0->accelerate) (2.32.4)\n",
            "Requirement already satisfied: tqdm>=4.42.1 in /usr/local/lib/python3.12/dist-packages (from huggingface_hub>=0.21.0->accelerate) (4.67.1)\n",
            "Requirement already satisfied: hf-xet<2.0.0,>=1.1.3 in /usr/local/lib/python3.12/dist-packages (from huggingface_hub>=0.21.0->accelerate) (1.1.10)\n",
            "Requirement already satisfied: mpmath<1.4,>=1.1.0 in /usr/local/lib/python3.12/dist-packages (from sympy>=1.13.3->torch>=2.0.0->accelerate) (1.3.0)\n",
            "Requirement already satisfied: MarkupSafe>=2.0 in /usr/local/lib/python3.12/dist-packages (from jinja2->torch>=2.0.0->accelerate) (3.0.3)\n",
            "Requirement already satisfied: charset_normalizer<4,>=2 in /usr/local/lib/python3.12/dist-packages (from requests->huggingface_hub>=0.21.0->accelerate) (3.4.4)\n",
            "Requirement already satisfied: idna<4,>=2.5 in /usr/local/lib/python3.12/dist-packages (from requests->huggingface_hub>=0.21.0->accelerate) (3.11)\n",
            "Requirement already satisfied: urllib3<3,>=1.21.1 in /usr/local/lib/python3.12/dist-packages (from requests->huggingface_hub>=0.21.0->accelerate) (2.5.0)\n",
            "Requirement already satisfied: certifi>=2017.4.17 in /usr/local/lib/python3.12/dist-packages (from requests->huggingface_hub>=0.21.0->accelerate) (2025.10.5)\n",
            "Downloading bitsandbytes-0.48.1-py3-none-manylinux_2_24_x86_64.whl (60.1 MB)\n",
            "\u001b[2K   \u001b[90m━━━━━━━━━━━━━━━━━━━━━━━━━━━━━━━━━━━━━━━━\u001b[0m \u001b[32m60.1/60.1 MB\u001b[0m \u001b[31m45.9 MB/s\u001b[0m  \u001b[33m0:00:01\u001b[0m\n",
            "\u001b[?25hInstalling collected packages: bitsandbytes\n",
            "Successfully installed bitsandbytes-0.48.1\n",
            "Requirement already satisfied: pandas in /usr/local/lib/python3.12/dist-packages (2.2.2)\n",
            "Requirement already satisfied: pyarrow in /usr/local/lib/python3.12/dist-packages (18.1.0)\n",
            "Requirement already satisfied: rich in /usr/local/lib/python3.12/dist-packages (13.9.4)\n",
            "Requirement already satisfied: numpy>=1.26.0 in /usr/local/lib/python3.12/dist-packages (from pandas) (2.0.2)\n",
            "Requirement already satisfied: python-dateutil>=2.8.2 in /usr/local/lib/python3.12/dist-packages (from pandas) (2.9.0.post0)\n",
            "Requirement already satisfied: pytz>=2020.1 in /usr/local/lib/python3.12/dist-packages (from pandas) (2025.2)\n",
            "Requirement already satisfied: tzdata>=2022.7 in /usr/local/lib/python3.12/dist-packages (from pandas) (2025.2)\n",
            "Requirement already satisfied: markdown-it-py>=2.2.0 in /usr/local/lib/python3.12/dist-packages (from rich) (4.0.0)\n",
            "Requirement already satisfied: pygments<3.0.0,>=2.13.0 in /usr/local/lib/python3.12/dist-packages (from rich) (2.19.2)\n",
            "Requirement already satisfied: mdurl~=0.1 in /usr/local/lib/python3.12/dist-packages (from markdown-it-py>=2.2.0->rich) (0.1.2)\n",
            "Requirement already satisfied: six>=1.5 in /usr/local/lib/python3.12/dist-packages (from python-dateutil>=2.8.2->pandas) (1.17.0)\n",
            "\n",
            "✓ Installation complete!\n"
          ]
        }
      ],
      "source": [
        "# Upgrade pip and install base dependencies\n",
        "!python -m pip install -U pip setuptools wheel\n",
        "\n",
        "# Install the package in editable mode with dev dependencies\n",
        "!pip install -e .[dev]\n",
        "\n",
        "# Install GPU acceleration libraries\n",
        "!pip install accelerate bitsandbytes\n",
        "\n",
        "# Install additional dependencies for better performance\n",
        "!pip install pandas pyarrow rich\n",
        "\n",
        "print(\"\\n✓ Installation complete!\")\n"
      ]
    },
    {
      "cell_type": "markdown",
      "metadata": {
        "id": "q4JQTl0D95ZW"
      },
      "source": [
        "## Step 4: Build Dataset (Mathlib Tactics)\n"
      ]
    },
    {
      "cell_type": "code",
      "execution_count": 5,
      "metadata": {
        "colab": {
          "base_uri": "https://localhost:8080/",
          "height": 506
        },
        "id": "j3lZWtcA95ZW",
        "outputId": "1055ebb3-f235-4356-e673-1dbd11a75778"
      },
      "outputs": [
        {
          "output_type": "error",
          "ename": "ModuleNotFoundError",
          "evalue": "No module named 'libs'",
          "traceback": [
            "\u001b[0;31m---------------------------------------------------------------------------\u001b[0m",
            "\u001b[0;31mModuleNotFoundError\u001b[0m                       Traceback (most recent call last)",
            "\u001b[0;32m/tmp/ipython-input-792150468.py\u001b[0m in \u001b[0;36m<cell line: 0>\u001b[0;34m()\u001b[0m\n\u001b[1;32m      1\u001b[0m \u001b[0;31m# Build dataset shard from Mathlib (or use fallback)\u001b[0m\u001b[0;34m\u001b[0m\u001b[0;34m\u001b[0m\u001b[0m\n\u001b[0;32m----> 2\u001b[0;31m \u001b[0;32mfrom\u001b[0m \u001b[0mprover\u001b[0m\u001b[0;34m.\u001b[0m\u001b[0mdatasets\u001b[0m\u001b[0;34m.\u001b[0m\u001b[0mbuild_mathlib_dataset\u001b[0m \u001b[0;32mimport\u001b[0m \u001b[0mbuild\u001b[0m\u001b[0;34m\u001b[0m\u001b[0;34m\u001b[0m\u001b[0m\n\u001b[0m\u001b[1;32m      3\u001b[0m \u001b[0;34m\u001b[0m\u001b[0m\n\u001b[1;32m      4\u001b[0m \u001b[0mprint\u001b[0m\u001b[0;34m(\u001b[0m\u001b[0;34m\"Building dataset shard (limit=64 examples)...\"\u001b[0m\u001b[0;34m)\u001b[0m\u001b[0;34m\u001b[0m\u001b[0;34m\u001b[0m\u001b[0m\n\u001b[1;32m      5\u001b[0m \u001b[0mshard\u001b[0m \u001b[0;34m=\u001b[0m \u001b[0mbuild\u001b[0m\u001b[0;34m(\u001b[0m\u001b[0mlimit\u001b[0m\u001b[0;34m=\u001b[0m\u001b[0;36m64\u001b[0m\u001b[0;34m)\u001b[0m\u001b[0;34m\u001b[0m\u001b[0;34m\u001b[0m\u001b[0m\n",
            "\u001b[0;32m/content/archon-rh/prover/datasets/build_mathlib_dataset.py\u001b[0m in \u001b[0;36m<module>\u001b[0;34m\u001b[0m\n\u001b[1;32m      6\u001b[0m \u001b[0;32mfrom\u001b[0m \u001b[0mtyping\u001b[0m \u001b[0;32mimport\u001b[0m \u001b[0mIterable\u001b[0m\u001b[0;34m,\u001b[0m \u001b[0mList\u001b[0m\u001b[0;34m\u001b[0m\u001b[0;34m\u001b[0m\u001b[0m\n\u001b[1;32m      7\u001b[0m \u001b[0;34m\u001b[0m\u001b[0m\n\u001b[0;32m----> 8\u001b[0;31m \u001b[0;32mfrom\u001b[0m \u001b[0mlibs\u001b[0m\u001b[0;34m.\u001b[0m\u001b[0mrh_common\u001b[0m \u001b[0;32mimport\u001b[0m \u001b[0mget_logger\u001b[0m\u001b[0;34m,\u001b[0m \u001b[0mensure_dir\u001b[0m\u001b[0;34m,\u001b[0m \u001b[0mwrite_json\u001b[0m\u001b[0;34m\u001b[0m\u001b[0;34m\u001b[0m\u001b[0m\n\u001b[0m\u001b[1;32m      9\u001b[0m \u001b[0;32mfrom\u001b[0m \u001b[0;34m.\u001b[0m\u001b[0mschemas\u001b[0m \u001b[0;32mimport\u001b[0m \u001b[0mDatasetShard\u001b[0m\u001b[0;34m,\u001b[0m \u001b[0mTacticExample\u001b[0m\u001b[0;34m\u001b[0m\u001b[0;34m\u001b[0m\u001b[0m\n\u001b[1;32m     10\u001b[0m \u001b[0;34m\u001b[0m\u001b[0m\n",
            "\u001b[0;31mModuleNotFoundError\u001b[0m: No module named 'libs'",
            "",
            "\u001b[0;31m---------------------------------------------------------------------------\u001b[0;32m\nNOTE: If your import is failing due to a missing package, you can\nmanually install dependencies using either !pip or !apt.\n\nTo view examples of installing some common dependencies, click the\n\"Open Examples\" button below.\n\u001b[0;31m---------------------------------------------------------------------------\u001b[0m\n"
          ],
          "errorDetails": {
            "actions": [
              {
                "action": "open_url",
                "actionText": "Open Examples",
                "url": "/notebooks/snippets/importing_libraries.ipynb"
              }
            ]
          }
        }
      ],
      "source": [
        "# Build dataset shard from Mathlib (or use fallback)\n",
        "from prover.datasets.build_mathlib_dataset import build\n",
        "\n",
        "print(\"Building dataset shard (limit=64 examples)...\")\n",
        "shard = build(limit=64)\n",
        "print(f\"✓ Dataset ready with {len(shard.examples)} examples\")\n",
        "print(f\"✓ Output: artifacts/data/mini_mathlib.jsonl\")\n",
        "\n",
        "# Verify the dataset\n",
        "!ls -lh artifacts/data/\n",
        "!head -n 3 artifacts/data/mini_mathlib.jsonl\n"
      ]
    },
    {
      "cell_type": "markdown",
      "metadata": {
        "id": "XUtanO6e95ZX"
      },
      "source": [
        "## Step 5: Train SFT Model (GPU-Accelerated)\n",
        "Supervised fine-tuning on tactic prediction.\n"
      ]
    },
    {
      "cell_type": "code",
      "execution_count": null,
      "metadata": {
        "id": "Php5Jx0-95ZX"
      },
      "outputs": [],
      "source": [
        "# Train model with GPU-optimized config\n",
        "!python prover/train/sft_hf.py --config orchestration/configs/colab_sft_gpu.yaml\n",
        "\n",
        "print(\"\\n✓ SFT Training complete!\")\n",
        "!ls -lh artifacts/checkpoints/sft_colab_gpu/\n"
      ]
    },
    {
      "cell_type": "markdown",
      "metadata": {
        "id": "OijU8V-d95ZX"
      },
      "source": [
        "## Step 6: Run PPO Reinforcement Learning\n",
        "Self-play loop for policy optimization.\n"
      ]
    },
    {
      "cell_type": "code",
      "execution_count": null,
      "metadata": {
        "id": "n9dZciQ_95ZX"
      },
      "outputs": [],
      "source": [
        "from prover.rl.ppo_loop import train\n",
        "\n",
        "print(\"Starting PPO training...\")\n",
        "train('orchestration/configs/colab_rl_gpu.yaml')\n",
        "print(\"✓ PPO training complete!\")\n",
        "\n",
        "!ls -lh artifacts/checkpoints/rl_colab_gpu/\n"
      ]
    },
    {
      "cell_type": "markdown",
      "metadata": {
        "id": "c6t_8Eg295ZX"
      },
      "source": [
        "## Step 7: FunSearch Conjecture Discovery\n",
        "Generate and evolve mathematical conjectures.\n"
      ]
    },
    {
      "cell_type": "code",
      "execution_count": null,
      "metadata": {
        "id": "RKW418J695ZX"
      },
      "outputs": [],
      "source": [
        "# Run FunSearch loop for discovering new conjectures\n",
        "!python conjecture/funsearch/funsearch_loop.py --config orchestration/configs/funsearch_loop.yaml\n",
        "\n",
        "print(\"\\n✓ FunSearch complete!\")\n",
        "!ls -lh artifacts/funsearch/\n"
      ]
    },
    {
      "cell_type": "markdown",
      "metadata": {
        "id": "diiPyeuM95ZX"
      },
      "source": [
        "## Step 8: Download All Artifacts\n"
      ]
    },
    {
      "cell_type": "code",
      "execution_count": null,
      "metadata": {
        "id": "uL1Uiu_o95ZX"
      },
      "outputs": [],
      "source": [
        "# Zip and download all results\n",
        "!zip -r /content/archon_rh_artifacts.zip artifacts/\n",
        "\n",
        "from google.colab import files\n",
        "files.download('/content/archon_rh_artifacts.zip')\n",
        "print(\"\\n✓ All artifacts downloaded as archon_rh_artifacts.zip\")\n"
      ]
    }
  ],
  "metadata": {
    "language_info": {
      "name": "python"
    },
    "colab": {
      "provenance": []
    },
    "kernelspec": {
      "name": "python3",
      "display_name": "Python 3"
    }
  },
  "nbformat": 4,
  "nbformat_minor": 0
}