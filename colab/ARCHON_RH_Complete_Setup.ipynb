{
  "cells": [
    {
      "cell_type": "markdown",
      "metadata": {},
      "source": [
        "# ARCHON-RH: Complete Colab Setup for Riemann Hypothesis Research\n",
        "This notebook sets up the complete reasoning lab for formal mathematics and theorem proving.\n",
        "\n",
        "**Hardware Required:** GPU Runtime (T4/V100/A100)\n",
        "\n",
        "**Runtime Setup:**\n",
        "- Runtime → Change runtime type → Hardware accelerator: **GPU**\n",
        "- Runtime type: **High-RAM** (if available)\n"
      ]
    },
    {
      "cell_type": "markdown",
      "metadata": {},
      "source": [
        "## Step 1: Verify GPU & System\n"
      ]
    },
    {
      "cell_type": "code",
      "execution_count": null,
      "metadata": {},
      "outputs": [],
      "source": [
        "# Check GPU availability and specs\n",
        "!nvidia-smi\n",
        "!python -V\n",
        "\n",
        "import torch\n",
        "print(f\"\\n{'='*60}\")\n",
        "print(f\"PyTorch version: {torch.__version__}\")\n",
        "print(f\"CUDA available: {torch.cuda.is_available()}\")\n",
        "if torch.cuda.is_available():\n",
        "    print(f\"GPU: {torch.cuda.get_device_name(0)}\")\n",
        "    print(f\"GPU Memory: {torch.cuda.get_device_properties(0).total_memory / 1e9:.2f} GB\")\n",
        "    print(f\"CUDA Version: {torch.version.cuda}\")\n",
        "print(f\"{'='*60}\")\n"
      ]
    },
    {
      "cell_type": "markdown",
      "metadata": {},
      "source": [
        "## Step 2: Get Code (Choose ONE option below)\n"
      ]
    },
    {
      "cell_type": "code",
      "execution_count": null,
      "metadata": {},
      "outputs": [],
      "source": [
        "# OPTION 1: Clone from GitHub (RECOMMENDED)\n",
        "# First, push your code to GitHub, then replace YOUR_USERNAME below\n",
        "!rm -rf /content/archon-rh\n",
        "!git clone https://github.com/YOUR_USERNAME/archon-rh /content/archon-rh\n",
        "%cd /content/archon-rh\n",
        "!pwd\n",
        "!ls -la\n"
      ]
    },
    {
      "cell_type": "code",
      "execution_count": null,
      "metadata": {},
      "outputs": [],
      "source": [
        "# OPTION 2: Upload ZIP file (Alternative if no GitHub)\n",
        "# First, create archon-rh.zip locally, then run this cell\n",
        "from google.colab import files\n",
        "import zipfile\n",
        "\n",
        "print(\"Upload archon-rh.zip containing the archon-rh folder\")\n",
        "uploaded = files.upload()\n",
        "\n",
        "zip_name = list(uploaded.keys())[0]\n",
        "!unzip -q {zip_name} -d /content/\n",
        "%cd /content/archon-rh\n",
        "!pwd\n",
        "!ls -la\n"
      ]
    },
    {
      "cell_type": "code",
      "execution_count": null,
      "metadata": {},
      "outputs": [],
      "source": [
        "# OPTION 3: Mount Google Drive (if code is on Drive)\n",
        "# Upload archon-rh folder to Google Drive first\n",
        "from google.colab import drive\n",
        "drive.mount('/content/drive')\n",
        "\n",
        "# Update path to where you uploaded the folder\n",
        "!cp -r /content/drive/MyDrive/archon-rh /content/archon-rh\n",
        "%cd /content/archon-rh\n",
        "!pwd\n",
        "!ls -la\n"
      ]
    },
    {
      "cell_type": "markdown",
      "metadata": {},
      "source": [
        "## Step 3: Verify Code is Loaded\n"
      ]
    },
    {
      "cell_type": "code",
      "execution_count": null,
      "metadata": {},
      "outputs": [],
      "source": [
        "# Verify directory structure\n",
        "!pwd\n",
        "!ls -la\n",
        "print(\"\\n✓ Checking key directories:\")\n",
        "!ls -d prover/ conjecture/ numerics/ orchestration/ 2>/dev/null || echo \"⚠️  Missing directories - check your setup!\"\n"
      ]
    },
    {
      "cell_type": "markdown",
      "metadata": {},
      "source": [
        "## Step 4: Install Dependencies (4-7 minutes)\n"
      ]
    },
    {
      "cell_type": "code",
      "execution_count": null,
      "metadata": {},
      "outputs": [],
      "source": [
        "# Upgrade pip and install base dependencies\n",
        "!python -m pip install -U pip setuptools wheel\n",
        "\n",
        "# Install the package in editable mode with dev dependencies\n",
        "!pip install -e .[dev]\n",
        "\n",
        "# Install GPU acceleration libraries\n",
        "!pip install accelerate bitsandbytes\n",
        "\n",
        "# Install additional dependencies for better performance\n",
        "!pip install pandas pyarrow rich\n",
        "\n",
        "print(\"\\n✓ Installation complete!\")\n"
      ]
    },
    {
      "cell_type": "markdown",
      "metadata": {},
      "source": [
        "## Step 4: Build Dataset (Mathlib Tactics)\n"
      ]
    },
    {
      "cell_type": "code",
      "execution_count": null,
      "metadata": {},
      "outputs": [],
      "source": [
        "# Build dataset shard from Mathlib (or use fallback)\n",
        "from prover.datasets.build_mathlib_dataset import build\n",
        "\n",
        "print(\"Building dataset shard (limit=64 examples)...\")\n",
        "shard = build(limit=64)\n",
        "print(f\"✓ Dataset ready with {len(shard.examples)} examples\")\n",
        "print(f\"✓ Output: artifacts/data/mini_mathlib.jsonl\")\n",
        "\n",
        "# Verify the dataset\n",
        "!ls -lh artifacts/data/\n",
        "!head -n 3 artifacts/data/mini_mathlib.jsonl\n"
      ]
    },
    {
      "cell_type": "markdown",
      "metadata": {},
      "source": [
        "## Step 5: Train SFT Model (GPU-Accelerated)\n",
        "Supervised fine-tuning on tactic prediction.\n"
      ]
    },
    {
      "cell_type": "code",
      "execution_count": null,
      "metadata": {},
      "outputs": [],
      "source": [
        "# Train model with GPU-optimized config\n",
        "!python prover/train/sft_hf.py --config orchestration/configs/colab_sft_gpu.yaml\n",
        "\n",
        "print(\"\\n✓ SFT Training complete!\")\n",
        "!ls -lh artifacts/checkpoints/sft_colab_gpu/\n"
      ]
    },
    {
      "cell_type": "markdown",
      "metadata": {},
      "source": [
        "## Step 6: Run PPO Reinforcement Learning\n",
        "Self-play loop for policy optimization.\n"
      ]
    },
    {
      "cell_type": "code",
      "execution_count": null,
      "metadata": {},
      "outputs": [],
      "source": [
        "from prover.rl.ppo_loop import train\n",
        "\n",
        "print(\"Starting PPO training...\")\n",
        "train('orchestration/configs/colab_rl_gpu.yaml')\n",
        "print(\"✓ PPO training complete!\")\n",
        "\n",
        "!ls -lh artifacts/checkpoints/rl_colab_gpu/\n"
      ]
    },
    {
      "cell_type": "markdown",
      "metadata": {},
      "source": [
        "## Step 7: FunSearch Conjecture Discovery\n",
        "Generate and evolve mathematical conjectures.\n"
      ]
    },
    {
      "cell_type": "code",
      "execution_count": null,
      "metadata": {},
      "outputs": [],
      "source": [
        "# Run FunSearch loop for discovering new conjectures\n",
        "!python conjecture/funsearch/funsearch_loop.py --config orchestration/configs/funsearch_loop.yaml\n",
        "\n",
        "print(\"\\n✓ FunSearch complete!\")\n",
        "!ls -lh artifacts/funsearch/\n"
      ]
    },
    {
      "cell_type": "markdown",
      "metadata": {},
      "source": [
        "## Step 8: Download All Artifacts\n"
      ]
    },
    {
      "cell_type": "code",
      "execution_count": null,
      "metadata": {},
      "outputs": [],
      "source": [
        "# Zip and download all results\n",
        "!zip -r /content/archon_rh_artifacts.zip artifacts/\n",
        "\n",
        "from google.colab import files\n",
        "files.download('/content/archon_rh_artifacts.zip')\n",
        "print(\"\\n✓ All artifacts downloaded as archon_rh_artifacts.zip\")\n"
      ]
    }
  ],
  "metadata": {
    "language_info": {
      "name": "python"
    }
  },
  "nbformat": 4,
  "nbformat_minor": 2
}
