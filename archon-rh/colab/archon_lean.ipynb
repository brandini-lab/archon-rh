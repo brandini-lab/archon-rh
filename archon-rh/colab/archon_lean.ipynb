{
  "cells": [
    {
      "cell_type": "markdown",
      "metadata": {},
      "source": [
        "# LeanDojo / Mathlib Playground\n",
        "Attempt to prove tiny lemmas via LeanDojo. Skips gracefully if LeanDojo is unavailable."
      ]
    },
    {
      "cell_type": "code",
      "execution_count": null,
      "metadata": {
        "id": "install"
      },
      "outputs": [],
      "source": [
        "!pip install leandojo>=1.1.0"
      ]
    },
    {
      "cell_type": "code",
      "execution_count": null,
      "metadata": {
        "id": "proof"
      },
      "outputs": [],
      "source": [
        "%%bash\n",
        "python - <<'PY'\ntry:\n    from formal.leandojo_bridge.client import LeanDojoBridge, default_project\n    project = default_project()\n    bridge = LeanDojoBridge(project, timeout=10.0)\n    with bridge as session:\n        state = session.get_goal_state()\n        print('initial goal:', state.goal_text[:120])\n        result = session.run_script(['simp', 'exact?'])\n        print('solved:', result.solved)\nexcept Exception as exc:\n    print('LeanDojo unavailable or proof failed:', exc)\nPY"
      ]
    },
    {
      "cell_type": "markdown",
      "metadata": {},
      "source": [
        "## Export FunSearch Conjecture to Lean\n",
        "This demonstrates how generated kernels could be inserted into Lean project files."
      ]
    },
    {
      "cell_type": "code",
      "execution_count": null,
      "metadata": {
        "id": "export"
      },
      "outputs": [],
      "source": [
        "%%bash\n",
        "python - <<'PY'\nfrom formal.leandojo_bridge import MockLean\nfrom conjecture.funsearch.funsearch_loop import main\nmain('orchestration/configs/funsearch_loop.yaml')\nprint('funsearch archive ready: see artifacts/funsearch/archive.json')\nPY"
      ]
    }
  ],
  "metadata": {
    "kernelspec": {
      "display_name": "Python 3",
      "language": "python",
      "name": "python3"
    }
  },
  "nbformat": 4,
  "nbformat_minor": 5
}