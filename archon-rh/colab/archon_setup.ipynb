{
  "cells": [
    {
      "cell_type": "markdown",
      "metadata": {},
      "source": [
        "# ARCHON-RH Colab Setup\n",
        "GPU runtime + safety scaffolding for the reasoning lab."
      ]
    },
    {
      "cell_type": "code",
      "execution_count": null,
      "metadata": {
        "id": "runtime_info"
      },
      "outputs": [],
      "source": [
        "!nvidia-smi\n",
        "!python -V"
      ]
    },
    {
      "cell_type": "code",
      "execution_count": null,
      "metadata": {
        "id": "install"
      },
      "outputs": [],
      "source": [
        "!rm -rf archon-rh\n",
        "!git clone https://github.com/<your-mirror>/archon-rh\n",
        "%cd archon-rh\n",
        "!python -m pip install -U pip\n",
        "!pip install -e .[dev] accelerate bitsandbytes"
      ]
    },
    {
      "cell_type": "code",
      "execution_count": null,
      "metadata": {
        "id": "dataset"
      },
      "outputs": [],
      "source": [
        "%%bash\n",
        "python - <<'PY'\nfrom prover.datasets.build_mathlib_dataset import build\nbuild(limit=32)\nprint('dataset ready')\nPY"
      ]
    },
    {
      "cell_type": "code",
      "execution_count": null,
      "metadata": {
        "id": "tests"
      },
      "outputs": [],
      "source": [
        "!pytest -k 'toy_lemma or funsearch_objective or numeric_cert' --maxfail=1"
      ]
    }
  ],
  "metadata": {
    "kernelspec": {
      "display_name": "Python 3",
      "language": "python",
      "name": "python3"
    }
  },
  "nbformat": 4,
  "nbformat_minor": 5
}